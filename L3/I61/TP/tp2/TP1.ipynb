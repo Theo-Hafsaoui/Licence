{
 "cells": [
  {
   "cell_type": "markdown",
   "metadata": {},
   "source": [
    "---"
   ]
  },
  {
   "cell_type": "markdown",
   "metadata": {},
   "source": [
    "# TP1 : Traitement de fichiers, cryptanalyse, César et de Vigenère\n",
    "\n",
    "Dans ce TP, on commence par effectuer quelques traitements sur des fichiers et des chaînes de caractères (`string`), puis on reprend la cryptanalyse du chiffrement de César et on la réinvestit dans la cryptanalyse du chiffrement de De Vigenère. \n",
    "\n",
    "Vous pourrez donc récupérer en partie le travail effectué en TD2 (objectif 20) et en TP1.\n",
    "\n",
    "\n"
   ]
  },
  {
   "cell_type": "markdown",
   "metadata": {},
   "source": [
    "## Echauffement\n",
    "\n",
    "### Retour sur le codage ascii\n",
    "\n",
    "On rappelle l'énoncé de l'exercice 7 du TD2. \n",
    "\n",
    "L’ASCII est un codage de caractères qui définit 128 codes sur 7 bits. \n",
    "Chaque code correspond à un caractère : chiffres, lettres, symboles mathématiques et de ponctuation. \n",
    "\n",
    "En Python :\n",
    "- la fonction `ord()` retourne le code ASCII d’un caractère fourni en argument,   \n",
    "- la fonction `chr()` retourne le caractère associé à un code donné.  \n",
    "\n",
    "Ecrire un programme qui affiche :\n",
    "- le code ascii des majuscules \n",
    "- la table des 128 codes ASCII.\n"
   ]
  },
  {
   "cell_type": "code",
   "execution_count": null,
   "metadata": {
    "deletable": false,
    "nbgrader": {
     "checksum": "3c439c0d64cd5b6db6a68d0be0994651",
     "grade": true,
     "grade_id": "cell-777ad4a10cb75980",
     "locked": false,
     "points": 0,
     "schema_version": 1,
     "solution": true
    }
   },
   "outputs": [],
   "source": [
    "# ENTRER VOTRE CODE ICI\n",
    "raise NotImplementedError()"
   ]
  },
  {
   "cell_type": "markdown",
   "metadata": {},
   "source": [
    "## Traitement\n",
    "\n",
    "### Préparation syntaxique\n",
    "\n",
    "Dans le but de faire quelques traitements statistiques, et des chiffrements ultérieurs éventuels, écrire la fonction `traitementChaine()` qui :\n",
    "- convertit la chaîne en minuscules (c'est conseillé, ça facilite la suite)\n",
    "- remplace les caractères accentués par les caractères non accentués correspondants ;\n",
    "- élimine les espaces, la ponctuation et les chiffres, sans oublier les retours à la ligne, les guillemets et autres tirets ... ; \n",
    "- enfin, convertit le tout en majuscules et renvoie la chaîne de caractères résultat.\n",
    "\n",
    "On rappelle ici les méthodes utiles `.lower()`, `.upper()` et `.isalpha()`, pour le traitement des chaînes de caractères (type `string`) et présentées en cours (chapitre 3 : types composés)."
   ]
  },
  {
   "cell_type": "code",
   "execution_count": null,
   "metadata": {
    "deletable": false,
    "nbgrader": {
     "checksum": "21739787bfe008032b606b19fb83228d",
     "grade": true,
     "grade_id": "cell-3a28810c21370b21",
     "locked": false,
     "points": 0,
     "schema_version": 1,
     "solution": true
    }
   },
   "outputs": [],
   "source": [
    "# ENTRER VOTRE CODE ICI\n",
    "raise NotImplementedError()"
   ]
  },
  {
   "cell_type": "markdown",
   "metadata": {},
   "source": [
    "### Vérification\n",
    "Vérifier le bon comportement de votre fonction `traitement Chaine()` sur une chaîne de caractères entrée au clavier.  "
   ]
  },
  {
   "cell_type": "code",
   "execution_count": null,
   "metadata": {
    "deletable": false,
    "nbgrader": {
     "checksum": "2012596fc68509df316c043ffad4b517",
     "grade": true,
     "grade_id": "cell-ee67d76c387d7d91",
     "locked": false,
     "points": 0,
     "schema_version": 1,
     "solution": true
    }
   },
   "outputs": [],
   "source": [
    "# ENTRER VOTRE CODE ICI\n",
    "raise NotImplementedError()"
   ]
  },
  {
   "cell_type": "markdown",
   "metadata": {},
   "source": [
    "### Application à un fichier texte\n",
    "\n",
    "Vous trouverez dans le dossier le fichier d'entrée `93.txt`, le roman bien connu de Victor Hugo (dont on vous conseille vivement la lecture !).\n",
    "\n",
    "Effectuer le traitement suivant à l'aide de la fonction `traitementChaine()`. \n",
    "- Ouvrir et lire le contenu de ce fichier d'entrée, \n",
    "- effectuer la préparation syntaxique définie précédemment, \n",
    "- sauvegarder le résultat du traitement dans un nouveau fichier de sortie dénommé `93Out.txt`.\n"
   ]
  },
  {
   "cell_type": "code",
   "execution_count": null,
   "metadata": {
    "deletable": false,
    "nbgrader": {
     "checksum": "c0839c4660241c170c97982cad2f2853",
     "grade": true,
     "grade_id": "cell-c85a738a352737b3",
     "locked": false,
     "points": 0,
     "schema_version": 1,
     "solution": true
    }
   },
   "outputs": [],
   "source": [
    "# ENTRER VOTRE CODE ICI\n",
    "raise NotImplementedError()"
   ]
  },
  {
   "cell_type": "markdown",
   "metadata": {},
   "source": [
    "### Autres vérifications\n",
    "Vérifier l'effet de votre préparation :\n",
    "- en regardant sous l'éditeur le fichier texte généré,  \n",
    "- ou à l'aide de la commande Unix `wc`  "
   ]
  },
  {
   "cell_type": "code",
   "execution_count": null,
   "metadata": {
    "deletable": false,
    "nbgrader": {
     "checksum": "7d1c3b8303c8512515ea54ceefec41bd",
     "grade": true,
     "grade_id": "cell-3cba7c5450fbe10d",
     "locked": false,
     "points": 0,
     "schema_version": 1,
     "solution": true
    }
   },
   "outputs": [],
   "source": [
    "# ENTRER VOTRE CODE ICI\n",
    "raise NotImplementedError()"
   ]
  },
  {
   "cell_type": "markdown",
   "metadata": {},
   "source": [
    "### Traitements statistiques\n",
    "\n",
    "\n",
    "#### Apparition de lettres : dénombrement, fréquences\n",
    "Dans ce qui suit, on considère une chaîne de caractères arbitraire _mais_ en majuscules, sans espace ni ponctuction.  \n",
    "\n",
    "Pour un telle chaîne, écrire les fonctions :\n",
    "- `nb_apparitions()` qui compte le nombre d'apparitions de chacune des lettres majuscules (de 'A' à 'Z') dans cette chaîne ;\n",
    "- `frequences()` qui calcule les fréquences de ces apparitions dans cette chaîne ;\n",
    "    - cette fonction permettra de sauvegarder _éventuellement_ ces fréquences dans un fichier de sortie ;\n",
    "    - dans ce cas, le nom du fichier sera défini comme un paramètre de cette fonction.\n",
    "    - Chaque ligne du fichier respectera le format suivant :\n",
    "    ```A\t9.180%```\n",
    "\n",
    "**Rmq.** Vous pouvez reprendre et adapter les développements du TP1.  "
   ]
  },
  {
   "cell_type": "code",
   "execution_count": null,
   "metadata": {
    "deletable": false,
    "nbgrader": {
     "checksum": "a16648205404b34d726162563230fb2b",
     "grade": true,
     "grade_id": "cell-364bcf7821ffc35d",
     "locked": false,
     "points": 0,
     "schema_version": 1,
     "solution": true
    }
   },
   "outputs": [],
   "source": [
    "# ENTRER VOTRE CODE ICI\n",
    "raise NotImplementedError()"
   ]
  },
  {
   "cell_type": "markdown",
   "metadata": {},
   "source": [
    "#### Application à 93, roman de V. Hugo\n",
    "\n",
    "On dispose maintenant d'un fichier `93Out.txt` contenant une chaîne de caractères composée uniquement de majuscules, sans espace ni ponctuation. \n",
    "On peut procéder au calcul de quelques statistiques.\n",
    "\n",
    "- Appliquer les fonctions précédentes au contenu du fichier `93Out.txt` et \n",
    "- tracer (avec `matplotlib`) les histogrammes de ces apparitions et des fréquences\n",
    "- sauvegarder les fréquences dans un fichier `freq93.txt`\n",
    "- sauvegarder les histogrammes dans des fichiers images `hist_app93.png`et `hist_freq93.png`     "
   ]
  },
  {
   "cell_type": "code",
   "execution_count": null,
   "metadata": {
    "deletable": false,
    "nbgrader": {
     "checksum": "e42b49ea04ed05d6f118cbcf47f05f84",
     "grade": true,
     "grade_id": "cell-844663b4637200d5",
     "locked": false,
     "points": 0,
     "schema_version": 1,
     "solution": true
    }
   },
   "outputs": [],
   "source": [
    "# ENTRER VOTRE CODE ICI\n",
    "raise NotImplementedError()"
   ]
  },
  {
   "cell_type": "markdown",
   "metadata": {},
   "source": [
    "#### Apparitions de digrammes\n",
    "Un _digramme_ (ou _bigramme_) est un motif de deux lettres.  \n",
    "On considère les digrammes suivants :\n",
    "'ES','DE','LE','EN','RE','NT','ON','ER','TE','EL','AN','SE','ET','LA','AI','IT','ME','OU','EM','IE'.\n",
    "\n",
    "- Ecrire une fonction `nb_digrammes()` qui compte le nombre d'apparitions d'un bigramme donné dans une chaîne de caractères arbitraire."
   ]
  },
  {
   "cell_type": "code",
   "execution_count": null,
   "metadata": {
    "deletable": false,
    "nbgrader": {
     "checksum": "e07df5f60f93be3a058d1ff561511522",
     "grade": true,
     "grade_id": "cell-b48afbf806fe7d18",
     "locked": false,
     "points": 0,
     "schema_version": 1,
     "solution": true
    }
   },
   "outputs": [],
   "source": [
    "# ENTRER VOTRE CODE ICI\n",
    "raise NotImplementedError()"
   ]
  },
  {
   "cell_type": "markdown",
   "metadata": {},
   "source": [
    "- Appliquer cette fonction au contenu du fichier `93Out.txt` \n",
    "    - les nombres d'apparitions de digrammes seront stockés avec un dictionnaire adapté\n",
    "- et tracer un premier histogramme d'apparition des digrammes définis ci-dessus."
   ]
  },
  {
   "cell_type": "code",
   "execution_count": null,
   "metadata": {
    "deletable": false,
    "nbgrader": {
     "checksum": "0926b9171c7de7916e5fe3213cd9c045",
     "grade": true,
     "grade_id": "cell-681c3061e187a5f5",
     "locked": false,
     "points": 0,
     "schema_version": 1,
     "solution": true
    }
   },
   "outputs": [],
   "source": [
    "# ENTRER VOTRE CODE ICI\n",
    "raise NotImplementedError()"
   ]
  },
  {
   "cell_type": "markdown",
   "metadata": {},
   "source": [
    "#### Histogramme ordonné \n",
    "\n",
    "Reprendre les valeurs d'apparitions précédentes et tracer un histogramme ordonnés par nombre d'apparitions décroissant. \n",
    "\n",
    "**Indication :** Un dictionnaire python est une structure de donnée non ordonnable. "
   ]
  },
  {
   "cell_type": "code",
   "execution_count": null,
   "metadata": {
    "deletable": false,
    "nbgrader": {
     "checksum": "128bae0998d0fa67b7c9a4f0c6e93e58",
     "grade": true,
     "grade_id": "cell-91b7bdbc77d24336",
     "locked": false,
     "points": 0,
     "schema_version": 1,
     "solution": true
    }
   },
   "outputs": [],
   "source": [
    "# ENTRER VOTRE CODE ICI\n",
    "raise NotImplementedError()"
   ]
  },
  {
   "cell_type": "markdown",
   "metadata": {},
   "source": [
    "### Analyse\n",
    "Comparer vos statistiques avec les fréquences des lettres et bigrammes données pour la langue française (par exemple : http://www.apprendre-en-ligne.net/crypto/stat/francais.html ).  \n",
    "Conclure quant au roman de Victor Hugo."
   ]
  },
  {
   "cell_type": "markdown",
   "metadata": {
    "deletable": false,
    "nbgrader": {
     "checksum": "f0a73eebd97f5e3d74c65310827d6c17",
     "grade": true,
     "grade_id": "cell-2050b46af0eb08df",
     "locked": false,
     "points": 0,
     "schema_version": 1,
     "solution": true
    }
   },
   "source": [
    "VOTRE REPONSE ICI"
   ]
  },
  {
   "cell_type": "markdown",
   "metadata": {},
   "source": [
    "## 2 César\n",
    "\n",
    "### Chiffrement de César\n",
    "\n",
    "Écrire un premier programme qui :\n",
    "- lit une chaîne de caractères arbitraire entrée au clavier ;\n",
    "- effectue le traitement de cette chaîne avec la fonction `traitementChaine()` écrite plus haut ;\n",
    "- définit une fonction `cesar()` prenant en entrée la chaîne de caractères et une clé de chiffrement $k \\in \\{0,\\ldots,25\\}$  \n",
    "    - la clé est entrée au clavier, \n",
    "    - ou choisie aléatoirement (par exemple si la clé entrée au clavier est négative);\n",
    "- puis détermine la chaîne de caractères chiffrée,\n",
    "- et l'affiche à l'écran.\n",
    "\n",
    "**Rmq.** La valeur entière $k$ définit le nombre de décalages du chiffrement de César. \n",
    "$k$ est aussi l'indice (compté à partir de 0) d'une lettre de l'alphabet 'A', 'B', ... , 'Z'."
   ]
  },
  {
   "cell_type": "code",
   "execution_count": null,
   "metadata": {
    "deletable": false,
    "nbgrader": {
     "checksum": "05d4ae1a097b208c008959deb223f795",
     "grade": true,
     "grade_id": "cell-6b226563b7ba8dd4",
     "locked": false,
     "points": 0,
     "schema_version": 1,
     "solution": true
    }
   },
   "outputs": [],
   "source": [
    "# ENTRER VOTRE CODE ICI\n",
    "raise NotImplementedError()"
   ]
  },
  {
   "cell_type": "markdown",
   "metadata": {},
   "source": [
    "### Déchiffrer César avec sa clé  \n",
    "\n",
    "Compléter ce code avec une fonction `decesar()` qui détermine le message clair à partir d'un message chiffré et d'une clé de chiffrement donnée. \n",
    "Appliquer cette fonction au traitement précédent et vérifier la correction des deux étapes.  "
   ]
  },
  {
   "cell_type": "code",
   "execution_count": null,
   "metadata": {
    "deletable": false,
    "nbgrader": {
     "checksum": "5f729a1a2095e4e231ae0994c0e15f41",
     "grade": true,
     "grade_id": "cell-690ba55d3839d9ed",
     "locked": false,
     "points": 0,
     "schema_version": 1,
     "solution": true
    }
   },
   "outputs": [],
   "source": [
    "# ENTRER VOTRE CODE ICI\n",
    "raise NotImplementedError()"
   ]
  },
  {
   "cell_type": "markdown",
   "metadata": {},
   "source": [
    "### Première application\n",
    "\n",
    "Une fois ce chiffrement validé, modifier les deux traitements précédents pour que la chaîne de caractères à chiffer soit le texte défini dans le fichier d'entrée `In.txt` et la chaîne chiffrée soit sauvegardée dans le fichier de sortie `Out.txt`."
   ]
  },
  {
   "cell_type": "code",
   "execution_count": null,
   "metadata": {
    "deletable": false,
    "nbgrader": {
     "checksum": "ad926f44472968c1eaabe53df70924d6",
     "grade": true,
     "grade_id": "cell-96db63a680ca52db",
     "locked": false,
     "points": 0,
     "schema_version": 1,
     "solution": true
    }
   },
   "outputs": [],
   "source": [
    "# ENTRER VOTRE CODE ICI\n",
    "raise NotImplementedError()"
   ]
  },
  {
   "cell_type": "markdown",
   "metadata": {},
   "source": [
    "## Test de l'indice de coïncidence\n",
    "\n",
    "Le test de l'indice de coïncidence est présenté dans les documents joints ('Cryptanalyse.pdf' et 'Coincidence.pdf').  \n",
    "Il y a d'autres ressources pertinentes sur le web, en particulier la page \n",
    "[wikipedia](https://fr.wikipedia.org/wiki/Indice_de_coïncidence)\n",
    "\n",
    "### Le test\n",
    "\n",
    "Écrire une fonction `coincidence()` prenant en entrée une chaîne de caractères et qui implante le test de l'indice de coïncidence."
   ]
  },
  {
   "cell_type": "code",
   "execution_count": null,
   "metadata": {
    "deletable": false,
    "nbgrader": {
     "checksum": "6498b3108dbce436845f678e6409a540",
     "grade": true,
     "grade_id": "cell-e918d1d6f904b6c1",
     "locked": false,
     "points": 0,
     "schema_version": 1,
     "solution": true
    }
   },
   "outputs": [],
   "source": [
    "# ENTRER VOTRE CODE ICI\n",
    "raise NotImplementedError()"
   ]
  },
  {
   "cell_type": "markdown",
   "metadata": {},
   "source": [
    "Tester cette fonction sur les versions chiffrée et déchiffrée de la chaîne de caractères précédente (fichiers `In.txt` et `Out.txt`). "
   ]
  },
  {
   "cell_type": "code",
   "execution_count": null,
   "metadata": {
    "deletable": false,
    "nbgrader": {
     "checksum": "f3fa6ce3c5fe2f20d4403c3f3ac19950",
     "grade": true,
     "grade_id": "cell-2ddcfb3ddf9e284c",
     "locked": false,
     "points": 0,
     "schema_version": 1,
     "solution": true
    }
   },
   "outputs": [],
   "source": [
    "# ENTRER VOTRE CODE ICI\n",
    "raise NotImplementedError()"
   ]
  },
  {
   "cell_type": "markdown",
   "metadata": {},
   "source": [
    "#### Première analyse\n",
    "\n",
    "Que conclure sur l'intérêt du test de l'indice de coïncidence pour identifier dans une chaîne de caractères arbitraire l'existence d'un message en français sans ou avec chiffrement de César.    "
   ]
  },
  {
   "cell_type": "markdown",
   "metadata": {
    "deletable": false,
    "nbgrader": {
     "checksum": "f96389ab2e5adf11e3ca59f529118d5c",
     "grade": true,
     "grade_id": "cell-706cba70d5eb41a8",
     "locked": false,
     "points": 0,
     "schema_version": 1,
     "solution": true
    }
   },
   "source": [
    "VOTRE REPONSE ICI"
   ]
  },
  {
   "cell_type": "markdown",
   "metadata": {},
   "source": [
    "### Déchiffrer César sans sa clé : analyse fréquentielle  \n",
    "\n",
    "Écrire une fonction `cryptanalyseCesar()` qui prend en entrée un texte chiffré par la fonction `cesar()` précédente (en majuscule sans espace ni ponctuation) et qui renvoie _la clé de chiffrement_ de César. Vous disposez pour cela des fréquences théoriques d'apparition des lettres que vous avez déterminées à partir du roman de Victor Hugo.\n",
    "\n",
    "Appliquer la clé de chiffrement ainsi trouvée pour afficher le message en clair.  \n",
    "\n",
    "**Méthode :** \n",
    "- Comparer la fréquence d'apparition théorique des lettres avec celle du message chiffré, jusqu'à coïncidence, ce qui donne le décalage.\n",
    "- Une méthode est de calculer la somme des différences entre les deux fréquences pour chaque lettre, et de prendre la somme minima."
   ]
  },
  {
   "cell_type": "code",
   "execution_count": null,
   "metadata": {
    "deletable": false,
    "nbgrader": {
     "checksum": "258066e670d1087e4856ada8098756ed",
     "grade": true,
     "grade_id": "cell-582520eb4dab2095",
     "locked": false,
     "points": 0,
     "schema_version": 1,
     "solution": true
    }
   },
   "outputs": [],
   "source": [
    "# ENTRER VOTRE CODE ICI\n",
    "raise NotImplementedError()"
   ]
  },
  {
   "cell_type": "markdown",
   "metadata": {},
   "source": [
    "## 4 De Vigenère\n",
    "\n",
    "On va implanter le chiffrement de de Vigenère en s'aidant des documents ressources mentionnés plus haut. \n",
    "\n",
    "### Implantation du chiffrement\n",
    "\n",
    "#### Fractionner\n",
    "\n",
    "Commencer par écrire une fonction `fractionne()` qui :\n",
    "- prend en entrée une chaîne de caractères chiffrée (toujours uniquement en majuscules) ;\n",
    "- découpe le texte chiffré en $pas$ sous-chaînes en prenant une lettre tous les $pas$ lettres en partant de la $i$ème lettre pour $i \\in \\{0,\\cdots,pas-1\\}$ ;\n",
    "- renvoie la liste des sous-chaînes de caractères ainsi formées."
   ]
  },
  {
   "cell_type": "code",
   "execution_count": null,
   "metadata": {
    "deletable": false,
    "nbgrader": {
     "checksum": "92a4ef4bcf712045f10566f0026e3754",
     "grade": true,
     "grade_id": "cell-12bc5ae9870ff8d0",
     "locked": false,
     "points": 0,
     "schema_version": 1,
     "solution": true
    }
   },
   "outputs": [],
   "source": [
    "# ENTRER VOTRE CODE ICI\n",
    "raise NotImplementedError()"
   ]
  },
  {
   "cell_type": "markdown",
   "metadata": {},
   "source": [
    "Tester cette fonction sur la chaîne de caractères composée des 26 lettres de l'alphabet et plusieurs valeurs de $pas$ : 1, 2, 3, 4, 5. "
   ]
  },
  {
   "cell_type": "code",
   "execution_count": null,
   "metadata": {
    "deletable": false,
    "nbgrader": {
     "checksum": "d1718380d36f1778fa11ca5d2f9fcf5c",
     "grade": true,
     "grade_id": "cell-58fe03d659d2345a",
     "locked": false,
     "points": 0,
     "schema_version": 1,
     "solution": true
    }
   },
   "outputs": [],
   "source": [
    "# ENTRER VOTRE CODE ICI\n",
    "raise NotImplementedError()"
   ]
  },
  {
   "cell_type": "code",
   "execution_count": null,
   "metadata": {
    "deletable": false,
    "nbgrader": {
     "checksum": "554c4450e8ecbd9ccb12fe7d67204abd",
     "grade": true,
     "grade_id": "cell-6fd4c1874e8e14b3",
     "locked": false,
     "points": 0,
     "schema_version": 1,
     "solution": true
    }
   },
   "outputs": [],
   "source": [
    "# ENTRER VOTRE CODE ICI\n",
    "raise NotImplementedError()"
   ]
  },
  {
   "cell_type": "markdown",
   "metadata": {},
   "source": [
    "#### Recoller\n",
    "\n",
    "Ecrire une fonction `recolle()` qui effectue le traitement inverse de celui de `fractionne()` : à partir d'une liste de chaînes de caractères obtenue avec `fractionne()` (pour un pas arbitraire), `recolle()` reconstruit la chaîne d'origine.\n",
    "\n",
    "**Indication :** définir un traite exception adapté à la lecture de sous-chaînes de taille différente est utile."
   ]
  },
  {
   "cell_type": "code",
   "execution_count": null,
   "metadata": {
    "deletable": false,
    "nbgrader": {
     "checksum": "031652f5e737433d389e0aaa950d817d",
     "grade": true,
     "grade_id": "cell-608650836360cfb1",
     "locked": false,
     "points": 0,
     "schema_version": 1,
     "solution": true
    }
   },
   "outputs": [],
   "source": [
    "# ENTRER VOTRE CODE ICI\n",
    "raise NotImplementedError()"
   ]
  },
  {
   "cell_type": "markdown",
   "metadata": {},
   "source": [
    "Vérifier cette fonction en l'appliquant aux 5 fractionnements obtenus à la question précedente."
   ]
  },
  {
   "cell_type": "code",
   "execution_count": null,
   "metadata": {
    "deletable": false,
    "nbgrader": {
     "checksum": "8a89220565f22c0a6141db84cf3e54a7",
     "grade": true,
     "grade_id": "cell-8fa430dd58e7509e",
     "locked": false,
     "points": 0,
     "schema_version": 1,
     "solution": true
    }
   },
   "outputs": [],
   "source": [
    "# ENTRER VOTRE CODE ICI\n",
    "raise NotImplementedError()"
   ]
  },
  {
   "cell_type": "markdown",
   "metadata": {},
   "source": [
    "#### Chiffer\n",
    "\n",
    "Écrire une fonction `chiffrement()` \n",
    "- qui prend en entrées :\n",
    "    - un message à chiffrer : une chaîne de caractères en majuscules, sans espace ni ponctuation, \n",
    "    - et une clé : une chaîne de caractères, également en majuscule sans espace ni ponctuation ;\n",
    "- `fractionne()` cette chaîne en autant de sous-chaînes que de caractères de l'argument clé,\n",
    "- chiffre avec `cesar()` chaque sous-chaîne de caractères (de la liste renvoyée) avec le décalage correspondant à chaque lettre de la clé ;\n",
    "- `recolle()` les sous-chaînes chiffrées pour former le message complet chiffré ;\n",
    "- renvoie ce chiffrement sous la forme d'une chaîne de caractères en majuscules sans espace ni ponctuation."
   ]
  },
  {
   "cell_type": "code",
   "execution_count": null,
   "metadata": {
    "deletable": false,
    "nbgrader": {
     "checksum": "72ffd354fbcca6adec472b35c800863c",
     "grade": true,
     "grade_id": "cell-6dc61f2479a26ba3",
     "locked": false,
     "points": 0,
     "schema_version": 1,
     "solution": true
    }
   },
   "outputs": [],
   "source": [
    "# ENTRER VOTRE CODE ICI\n",
    "raise NotImplementedError()"
   ]
  },
  {
   "cell_type": "markdown",
   "metadata": {},
   "source": [
    "#### Applications\n",
    "\n",
    "Chiffrer :\n",
    "- la chaîne de caractères composée des 26 lettres de l'alphabet avec les clés successives : `Z`, `AZ`, `AZE`, `AZER`, `AZERT`;\n",
    "- le texte du fichier `InVigenere.txt` avec la clé `VIVELEMASTER`.  \n",
    "Afficher les textes ainsi chiffrés.  "
   ]
  },
  {
   "cell_type": "code",
   "execution_count": null,
   "metadata": {
    "deletable": false,
    "nbgrader": {
     "checksum": "4eaa714b2b34d8156ead44b6b47fbff6",
     "grade": true,
     "grade_id": "cell-d05e7bd7dfcd3b4c",
     "locked": false,
     "points": 0,
     "schema_version": 1,
     "solution": true
    }
   },
   "outputs": [],
   "source": [
    "# ENTRER VOTRE CODE ICI\n",
    "raise NotImplementedError()"
   ]
  },
  {
   "cell_type": "markdown",
   "metadata": {},
   "source": [
    "### Déchiffrer avec clé\n",
    "\n",
    "De façon similaire, écrire une fonction `dechiffrement()` qui :\n",
    "- prend en entrées :\n",
    "    - un texte chiffré à l'aide du cryptosystème de Vigenère, en majuscules sans espace ni ponctuation,\n",
    "    - et une clé : une chaine de caractères également en majuscule sans espace ni ponctuation ;\n",
    "- renvoie le déchiffrement sous la forme d'une chaîne de caractères, en majuscules sans espace ni ponctuation."
   ]
  },
  {
   "cell_type": "code",
   "execution_count": null,
   "metadata": {
    "deletable": false,
    "nbgrader": {
     "checksum": "2d3ee08564662e8108dcdbc05e15e18c",
     "grade": true,
     "grade_id": "cell-56d376d5af21ff1a",
     "locked": false,
     "points": 0,
     "schema_version": 1,
     "solution": true
    }
   },
   "outputs": [],
   "source": [
    "# ENTRER VOTRE CODE ICI\n",
    "raise NotImplementedError()"
   ]
  },
  {
   "cell_type": "markdown",
   "metadata": {},
   "source": [
    "Tester ce déchiffrement sur les textes chiffrés précédemment."
   ]
  },
  {
   "cell_type": "code",
   "execution_count": null,
   "metadata": {
    "deletable": false,
    "nbgrader": {
     "checksum": "e3d72dc7f7dd5a5bac3627483007ef2a",
     "grade": true,
     "grade_id": "cell-ff172769d241a067",
     "locked": false,
     "points": 0,
     "schema_version": 1,
     "solution": true
    }
   },
   "outputs": [],
   "source": [
    "# ENTRER VOTRE CODE ICI\n",
    "raise NotImplementedError()"
   ]
  },
  {
   "cell_type": "markdown",
   "metadata": {},
   "source": [
    "### Cryptanalyse\n",
    "On va implanter le test de l'indice de coïncidence adapté au cryptosystème de de Vigenère. \n",
    "\n",
    "#### Indice de coïncidence\n",
    "\n",
    "On commence en écrivant une fonction `calculIC()` qui\n",
    "- prend en entrée une chaîne de caractères (chiffrée) et un pas ;\n",
    "- `fractionne()` cette chaîne en sous-chaînes selon ce pas, \n",
    "- calcule et renvoie la moyenne des indices de coïncidence de toutes ces sous-chaînes."
   ]
  },
  {
   "cell_type": "code",
   "execution_count": null,
   "metadata": {
    "deletable": false,
    "nbgrader": {
     "checksum": "98a061f5cf979569e823a27e635e3e9c",
     "grade": true,
     "grade_id": "cell-a223eeea9e723cab",
     "locked": false,
     "points": 0,
     "schema_version": 1,
     "solution": true
    }
   },
   "outputs": [],
   "source": [
    "# ENTRER VOTRE CODE ICI\n",
    "raise NotImplementedError()"
   ]
  },
  {
   "cell_type": "markdown",
   "metadata": {},
   "source": [
    "Calculer les indices de coïncidences des textes chiffrés précédemment.  "
   ]
  },
  {
   "cell_type": "code",
   "execution_count": null,
   "metadata": {
    "deletable": false,
    "nbgrader": {
     "checksum": "fe198dc27d5ab955470042009f9eeb37",
     "grade": true,
     "grade_id": "cell-062ede5509a90215",
     "locked": false,
     "points": 0,
     "schema_version": 1,
     "solution": true
    }
   },
   "outputs": [],
   "source": [
    "# ENTRER VOTRE CODE ICI\n",
    "raise NotImplementedError()"
   ]
  },
  {
   "cell_type": "markdown",
   "metadata": {},
   "source": [
    "#### Identifier la longueur de la clé\n",
    "Écrire une fonction `tailleCle()` qui :\n",
    "- prend en entrée une chaîne de caractère chiffrée (toute en majuscules) ;\n",
    "- effectue le test de l'indice de coïncidence global pour différentes longueurs de clé (en partant de 1, on ne sait jamais si c'était chiffré avec César...) et s'arrète dès que l'on dépasse un paramètre `seuil` par exemple fixé à  $0.065$ ;\n",
    "- renvoie la meilleure hypothèse sur la longueur de clé correspondante."
   ]
  },
  {
   "cell_type": "code",
   "execution_count": null,
   "metadata": {
    "deletable": false,
    "nbgrader": {
     "checksum": "8e38dfaaf5dbb06a4d39a24cb5ac81da",
     "grade": true,
     "grade_id": "cell-d8a7f03754a0b9da",
     "locked": false,
     "points": 0,
     "schema_version": 1,
     "solution": true
    }
   },
   "outputs": [],
   "source": [
    "# ENTRER VOTRE CODE ICI\n",
    "raise NotImplementedError()"
   ]
  },
  {
   "cell_type": "markdown",
   "metadata": {},
   "source": [
    "#### Applications\n",
    "\n",
    "Vérifier la bonne estimation de la longueur de clé en appliquant cette identification au texte chiffré issu du fichier `InVigenere.txt` avec la clé `VIVELALICENCE`.  "
   ]
  },
  {
   "cell_type": "code",
   "execution_count": null,
   "metadata": {
    "deletable": false,
    "nbgrader": {
     "checksum": "ddc81e646f951ac1f07bc6ad5ddcce79",
     "grade": true,
     "grade_id": "cell-35afadd4e1499928",
     "locked": false,
     "points": 0,
     "schema_version": 1,
     "solution": true
    }
   },
   "outputs": [],
   "source": [
    "# ENTRER VOTRE CODE ICI\n",
    "raise NotImplementedError()"
   ]
  },
  {
   "cell_type": "markdown",
   "metadata": {},
   "source": [
    "Essayer puis justifier pourquoi appliquer cette identification échoue si on l'applique aux chiffrements du \"message-alphabet\" `ABC...YZ` (avec les clés précédemment utilisées).  "
   ]
  },
  {
   "cell_type": "code",
   "execution_count": null,
   "metadata": {
    "deletable": false,
    "nbgrader": {
     "checksum": "efc6b0647bf797648fdf32c7d131d302",
     "grade": true,
     "grade_id": "cell-ce6e7e26de0de495",
     "locked": false,
     "points": 0,
     "schema_version": 1,
     "solution": true
    }
   },
   "outputs": [],
   "source": [
    "# ENTRER VOTRE CODE ICI\n",
    "raise NotImplementedError()"
   ]
  },
  {
   "cell_type": "markdown",
   "metadata": {
    "deletable": false,
    "nbgrader": {
     "checksum": "03810bba0b0204754c9ab94fbf50e02a",
     "grade": true,
     "grade_id": "cell-98b644455cd9f0a8",
     "locked": false,
     "points": 0,
     "schema_version": 1,
     "solution": true
    }
   },
   "source": [
    "VOTRE REPONSE ICI"
   ]
  },
  {
   "cell_type": "markdown",
   "metadata": {},
   "source": [
    "#### Déchiffrer \n",
    "Implanter une fonction `decrypter()` qui :\n",
    "- identifie la longueur de la clé du chiffrement de de Vigenère, \n",
    "- l'utilise pour fractionner le message chiffré en sous-chaînes,\n",
    "- utilise la fonction `cryptanalyseCesar()` pour déchiffrer chaque sous chaîne,\n",
    "- et renvoie le texte clair, et la clé.\n",
    "\n",
    "Vérifier vos développements en appliquant cette fonction au chiffré de `InVigenere.txt`. \n"
   ]
  },
  {
   "cell_type": "code",
   "execution_count": null,
   "metadata": {
    "deletable": false,
    "nbgrader": {
     "checksum": "8d1ffe20277e6e918ed4a4c71b517b02",
     "grade": true,
     "grade_id": "cell-feb6ec1bfe5e71a7",
     "locked": false,
     "points": 0,
     "schema_version": 1,
     "solution": true
    }
   },
   "outputs": [],
   "source": [
    "# ENTRER VOTRE CODE ICI\n",
    "raise NotImplementedError()"
   ]
  },
  {
   "cell_type": "markdown",
   "metadata": {},
   "source": [
    "### Application\n",
    "\n",
    "Pour finir, vous pouvez maintenant chiffrer le roman 93 de Victor Hugo avec des clés de votre choix.\n",
    "\n",
    "Vérifier les statistiques sur votre texte chiffré en traçant les histogrammes de fréquences d'apparition des lettres sur le texte chiffré. "
   ]
  },
  {
   "cell_type": "code",
   "execution_count": null,
   "metadata": {
    "deletable": false,
    "nbgrader": {
     "checksum": "3185b08a57424842225e833c89a8e0ab",
     "grade": true,
     "grade_id": "cell-4c23a59d4cd6755d",
     "locked": false,
     "points": 0,
     "schema_version": 1,
     "solution": true
    }
   },
   "outputs": [],
   "source": [
    "# ENTRER VOTRE CODE ICI\n",
    "raise NotImplementedError()"
   ]
  },
  {
   "cell_type": "markdown",
   "metadata": {},
   "source": [
    "Faire de même avec les histogrammes de fréquences d'apparition des bigrammes sur le texte chiffré. "
   ]
  },
  {
   "cell_type": "code",
   "execution_count": null,
   "metadata": {
    "deletable": false,
    "nbgrader": {
     "checksum": "fc824448a18edd6389e0f02d046f52d1",
     "grade": true,
     "grade_id": "cell-83939c6781f01484",
     "locked": false,
     "points": 0,
     "schema_version": 1,
     "solution": true
    }
   },
   "outputs": [],
   "source": [
    "# ENTRER VOTRE CODE ICI\n",
    "raise NotImplementedError()"
   ]
  },
  {
   "cell_type": "markdown",
   "metadata": {},
   "source": [
    "**Question bonus :** Quelle serait, selon vous, la clé la plus robuste ?"
   ]
  },
  {
   "cell_type": "markdown",
   "metadata": {
    "deletable": false,
    "nbgrader": {
     "checksum": "958bb9d12d7aba43543716cdb76ec91c",
     "grade": true,
     "grade_id": "cell-bba88c4688b61510",
     "locked": false,
     "points": 0,
     "schema_version": 1,
     "solution": true
    }
   },
   "source": [
    "VOTRE REPONSE ICI"
   ]
  },
  {
   "cell_type": "code",
   "execution_count": null,
   "metadata": {},
   "outputs": [],
   "source": []
  }
 ],
 "metadata": {
  "kernelspec": {
   "display_name": "Python 3",
   "language": "python",
   "name": "python3"
  },
  "language_info": {
   "codemirror_mode": {
    "name": "ipython",
    "version": 3
   },
   "file_extension": ".py",
   "mimetype": "text/x-python",
   "name": "python",
   "nbconvert_exporter": "python",
   "pygments_lexer": "ipython3",
   "version": "3.6.7"
  },
  "latex_envs": {
   "LaTeX_envs_menu_present": true,
   "autoclose": false,
   "autocomplete": true,
   "bibliofile": "biblio.bib",
   "cite_by": "apalike",
   "current_citInitial": 1,
   "eqLabelWithNumbers": true,
   "eqNumInitial": 1,
   "hotkeys": {
    "equation": "Ctrl-E",
    "itemize": "Ctrl-I"
   },
   "labels_anchors": false,
   "latex_user_defs": false,
   "report_style_numbering": true,
   "user_envs_cfg": false
  },
  "toc": {
   "nav_menu": {},
   "number_sections": true,
   "sideBar": false,
   "skip_h1_title": true,
   "title_cell": "Table des matieres",
   "title_sidebar": "TdM",
   "toc_cell": false,
   "toc_position": {
    "height": "285px",
    "left": "10px",
    "top": "150px",
    "width": "230px"
   },
   "toc_section_display": false,
   "toc_window_display": true
  }
 },
 "nbformat": 4,
 "nbformat_minor": 2
}
